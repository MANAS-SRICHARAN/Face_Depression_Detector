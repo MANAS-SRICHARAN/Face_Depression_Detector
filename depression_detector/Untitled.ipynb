{
 "cells": [
  {
   "cell_type": "code",
   "execution_count": 8,
   "metadata": {},
   "outputs": [
    {
     "name": "stdout",
     "output_type": "stream",
     "text": [
      "     columns        values\n",
      "0    neutral  9.945683e-01\n",
      "1      happy  5.630229e-06\n",
      "2        sad  1.096737e-03\n",
      "3  disgusted  9.730932e-07\n",
      "4    fearful  5.886200e-06\n",
      "5      angry  4.176385e-03\n",
      "6  surprised  1.460641e-04\n"
     ]
    }
   ],
   "source": [
    "import pandas as pd\n",
    "import numpy as np\n",
    "import pymongo\n",
    "import matplotlib.pyplot as plt\n",
    "import seaborn as sns\n",
    "myclient = pymongo.MongoClient(\"mongodb://localhost:27017/\")\n",
    "mydb = myclient[\"mydata_vision\"]\n",
    "mycol = mydb[\"my_data\"]\n",
    "\n",
    "time =[]\n",
    "neutral =[]\n",
    "happy=[]\n",
    "sad =[]\n",
    "angry =[]\n",
    "disgusted =[]\n",
    "fearful=[]\n",
    "surprised=[]\n",
    "time_d=[]\n",
    "\n",
    "\n",
    "for i in mycol.find():\n",
    "    time.append(i[\"time\"])\n",
    "    neutral.append(i[\"neutral\"])\n",
    "    happy.append(i[\"happy\"])\n",
    "    sad.append(i[\"sad\"])\n",
    "    disgusted.append(i[\"disgusted\"])\n",
    "    fearful.append(i[\"fearful\"])\n",
    "    angry.append(i[\"angry\"])\n",
    "    surprised.append(i[\"surprised\"])\n",
    "\n",
    "time = np.array(time)\n",
    "neutral = np.array(neutral)\n",
    "happy =np.array(happy)\n",
    "sad = np.array(sad)\n",
    "disgusted = np.array(disgusted)\n",
    "fearful = np.array(fearful)\n",
    "angry = np.array(angry)\n",
    "surprised = np.array(surprised)\n",
    "\n",
    "numpy_data = np.array([time,neutral,happy,sad,disgusted,fearful,angry,surprised])\n",
    "all_data =[]\n",
    "for i in range(len(time)):\n",
    "\tall_data.append([ time[i],neutral[i],happy[i],sad[i],disgusted[i],fearful[i],angry[i],surprised[i]])\n",
    "df = pd.DataFrame(data=np.array(all_data),columns=[\"time\",\"neutral\",\"happy\",\"sad\",\"disgusted\",\"fearful\",\"angry\",\"surprised\"])\n",
    "dff_agg = df.drop(\"time\",axis=1).mean()\n",
    "new_df = pd.DataFrame()\n",
    "new_df[\"columns\"]=df.drop(\"time\",axis=1).columns\n",
    "new_df[\"values\"]= dff_agg.values\n",
    "print(new_df)"
   ]
  },
  {
   "cell_type": "code",
   "execution_count": 9,
   "metadata": {},
   "outputs": [
    {
     "data": {
      "text/plain": [
       "<matplotlib.axes._subplots.AxesSubplot at 0x1fcc7807d48>"
      ]
     },
     "execution_count": 9,
     "metadata": {},
     "output_type": "execute_result"
    },
    {
     "data": {
      "image/png": "[encoded data removed]",
      "text/plain": [
       "<Figure size 432x288 with 1 Axes>"
      ]
     },
     "metadata": {
      "needs_background": "light"
     },
     "output_type": "display_data"
    }
   ],
   "source": [
    "new_df.plot(kind='bar')"
   ]
  },
  {
   "cell_type": "code",
   "execution_count": null,
   "metadata": {},
   "outputs": [],
   "source": []
  }
 ],
 "metadata": {
  "kernelspec": {
   "display_name": "Python 3.7.7 64-bit",
   "language": "python",
   "name": "python37764bitc71435afd84b4f4e964e880683d9930e"
  },
  "language_info": {
   "codemirror_mode": {
    "name": "ipython",
    "version": 3
   },
   "file_extension": ".py",
   "mimetype": "text/x-python",
   "name": "python",
   "nbconvert_exporter": "python",
   "pygments_lexer": "ipython3",
   "version": "3.7.7"
  }
 },
 "nbformat": 4,
 "nbformat_minor": 4
}
